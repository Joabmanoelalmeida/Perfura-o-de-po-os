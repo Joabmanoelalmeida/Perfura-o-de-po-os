{
 "cells": [
  {
   "cell_type": "markdown",
   "id": "bc534d38-acc4-4d0d-8695-bb5810fc3cfc",
   "metadata": {},
   "source": [
    "Exercício de hidráulica de perfuração"
   ]
  },
  {
   "cell_type": "markdown",
   "id": "acaac898-ea78-41c2-9822-f11992d5d0ff",
   "metadata": {},
   "source": [
    "Bibliotecas utilizadas"
   ]
  },
  {
   "cell_type": "code",
   "execution_count": 32,
   "id": "2ad154ad-04aa-496a-807e-d5cdeef39490",
   "metadata": {},
   "outputs": [],
   "source": [
    "import numpy as np\n",
    "import matplotlib.pyplot as plt"
   ]
  },
  {
   "cell_type": "markdown",
   "id": "86e7248a-6299-4f48-a6a8-f3e42dc7cf26",
   "metadata": {},
   "source": [
    "Dados de entrada:\n",
    "A fase de 8 ½” de um poço exploratório está sendo perfurada em uma sonda submersível em lâmina de\r\n",
    "água de 1500m com vazão de 400 gal/min e taxa de penetração média de 15 m/h à profundidade de 3400m. O\r\n",
    "fluido de perfuração é a base de óleo sintético, apresentando massa específica de 9,0 lb/gal, ensaiado no\r\n",
    "viscosímetro Fann (dados do ensaio abaixo). Nesse ponto são perfurados folhelhos com massa específica de\r\n",
    "2,7 g/cm3\r\n",
    ". Determine:"
   ]
  },
  {
   "cell_type": "code",
   "execution_count": 33,
   "id": "5b5aaf80-d7b1-482e-a2f3-097e83b3937c",
   "metadata": {},
   "outputs": [],
   "source": [
    "Q = 400     # Vazão (gal/min)\n",
    "D_broca = 8.5 \n",
    "lâmina_de_agua = 1500  # m\n",
    "taxa_penetração_media = 15  # m/h\n",
    "L = 3400  # m\n",
    "m_fluido = 9  # lb/gal \n",
    "m_cascalho = 2.7  # g/cm³ \n",
    "L_sapata = 2700 #m\n",
    "pressao_porosa = 6200  #psi"
   ]
  },
  {
   "cell_type": "markdown",
   "id": "b496f329-5e52-402f-9186-6d6e060532b8",
   "metadata": {},
   "source": [
    "Dados das deflexões em função da rotações para o cálculo do indice de comportamento e consistência"
   ]
  },
  {
   "cell_type": "code",
   "execution_count": 34,
   "id": "0f38072f-4fea-4102-8a48-0de126cc37c3",
   "metadata": {},
   "outputs": [],
   "source": [
    "dados = {\n",
    "    'Rotacoes (N, rpm)': [3, 6, 100, 200, 300, 600],\n",
    "    'Deflexão (teta, graus)': [2, 3, 19, 30, 40, 67]\n",
    "}"
   ]
  },
  {
   "cell_type": "markdown",
   "id": "a2132816-2e13-4d88-b7ea-67c3ac66dbce",
   "metadata": {},
   "source": [
    "Função para buscar deflexão com base na rotação"
   ]
  },
  {
   "cell_type": "code",
   "execution_count": 35,
   "id": "3103ef9f-ed39-49e1-be4a-181585cc0a24",
   "metadata": {},
   "outputs": [],
   "source": [
    "def rotacao(rotacao):\n",
    "    if rotacao in dados['Rotacoes (N, rpm)']:\n",
    "        index = dados['Rotacoes (N, rpm)'].index(rotacao)\n",
    "        return dados['Deflexão (teta, graus)'][index]\n",
    "    else:\n",
    "        return \"Rotação não encontrada.\""
   ]
  },
  {
   "cell_type": "markdown",
   "id": "1dba1a52-ddcc-4865-a6a6-f0c71d46a7ab",
   "metadata": {},
   "source": [
    "Interior da coluna"
   ]
  },
  {
   "cell_type": "code",
   "execution_count": 36,
   "id": "648ddae8-cc46-4bae-ad8b-c755e9526966",
   "metadata": {},
   "outputs": [
    {
     "name": "stdout",
     "output_type": "stream",
     "text": [
      "Índice de Comportamento: 0.7437291737579086, Consistência no interior da coluna: 0.41306918134014936\n"
     ]
    }
   ],
   "source": [
    "Np = 3.32 * np.log10(rotacao(600) / rotacao(300))\n",
    "Kp = 1.067 * (rotacao(600) / 1022**Np)\n",
    "print(f\"Índice de Comportamento: {Np}, Consistência no interior da coluna: {Kp}\")"
   ]
  },
  {
   "cell_type": "markdown",
   "id": "7d78587d-b135-4545-967a-edff2f8fa65f",
   "metadata": {},
   "source": [
    "Anular"
   ]
  },
  {
   "cell_type": "code",
   "execution_count": 37,
   "id": "a5bf290b-246c-4f6e-abb5-7243652132b2",
   "metadata": {},
   "outputs": [
    {
     "name": "stdout",
     "output_type": "stream",
     "text": [
      "Índice de Comportamento no anular: 0.6505149978319906, Consistência no anular da coluna: 0.7385093442947425\n"
     ]
    }
   ],
   "source": [
    "Na = 0.5 * np.log10(rotacao(300) / rotacao(3))\n",
    "Ka = 1.067 * (rotacao(300) / 511**Na)\n",
    "print(f\"Índice de Comportamento no anular: {Na}, Consistência no anular da coluna: {Ka}\")"
   ]
  },
  {
   "cell_type": "markdown",
   "id": "b160caf4-cb7e-421f-ba83-53ea872156df",
   "metadata": {},
   "source": [
    "Definição dos dados dos trechos"
   ]
  },
  {
   "cell_type": "code",
   "execution_count": 38,
   "id": "ae6d4d67-6957-4b26-a3d0-48c038ea72da",
   "metadata": {},
   "outputs": [],
   "source": [
    "dados = [\n",
    "    {'Trecho': 1, 'Comprimento': 3180, 'Di1': 4.276, 'Di2': None, 'Do': None, 'Número': None, 'ID': None},\n",
    "    {'Trecho': 2, 'Comprimento': 80, 'Di1': 3, 'Di2': None, 'Do': None, 'Número': None, 'ID': None},\n",
    "    {'Trecho': 3, 'Comprimento': 140, 'Di1': 2.8125, 'Di2': None, 'Do': None, 'Número': None, 'ID': None},\n",
    "    {'Trecho': 4, 'Comprimento': 0, 'Di1': None, 'Di2': None, 'Do': None, 'Número': 3, 'ID': 1.5},\n",
    "    {'Trecho': 5, 'Comprimento': 140, 'Di1': None, 'Di2': 6.25, 'Do': 8.5, 'Número': None, 'ID': None},\n",
    "    {'Trecho': 6, 'Comprimento': 80, 'Di1': None, 'Di2': 5, 'Do': 8.5, 'Número': None, 'ID': None},\n",
    "    {'Trecho': 7, 'Comprimento': 480, 'Di1': None, 'Di2': 5, 'Do': 8.5, 'Número': None, 'ID': None},\n",
    "    {'Trecho': 8, 'Comprimento': 1200, 'Di1': None, 'Di2': 5, 'Do': 8.535, 'Número': None, 'ID': None},\n",
    "    {'Trecho': 9, 'Comprimento': 1500, 'Di1': None, 'Di2': 5, 'Do': 19.75, 'Número': None, 'ID': None}\n",
    "]"
   ]
  },
  {
   "cell_type": "markdown",
   "id": "e072643f-0e58-401e-ba9c-8173bb02ae55",
   "metadata": {},
   "source": [
    "Função para buscar valores"
   ]
  },
  {
   "cell_type": "code",
   "execution_count": 39,
   "id": "e897ea07-2145-4ddf-adae-091bd6f61cf9",
   "metadata": {},
   "outputs": [],
   "source": [
    "def buscar_valor(trecho, campo):\n",
    "    for dado in dados:\n",
    "        if dado['Trecho'] == trecho:\n",
    "            return dado.get(campo, \"Campo não encontrado.\")\n",
    "    return \"Trecho não encontrado.\""
   ]
  },
  {
   "cell_type": "markdown",
   "id": "cf964f76-b60d-4b40-af86-08fb0db92efa",
   "metadata": {},
   "source": [
    "a) A pressão no tubo de bengala para esse poço, explicitando as perdas de carga em cada trecho;"
   ]
  },
  {
   "cell_type": "markdown",
   "id": "155bf37e-9514-4385-b639-4576c7ad185c",
   "metadata": {},
   "source": [
    "Cálculo das velocidades média "
   ]
  },
  {
   "cell_type": "markdown",
   "id": "451a7f2b-c2e4-4e07-a47f-8c8571901b53",
   "metadata": {},
   "source": [
    "Velocidades média do trecho 1 até o trecho 3:"
   ]
  },
  {
   "cell_type": "code",
   "execution_count": 40,
   "id": "4ba80767-9151-4fe6-af95-28cca4d27ca7",
   "metadata": {},
   "outputs": [
    {
     "name": "stdout",
     "output_type": "stream",
     "text": [
      "Velocidade média para o trecho 1: 536.2013579392367\n",
      "Velocidade média para o trecho 2: 1089.3333333333333\n",
      "Velocidade média para o trecho 3: 1239.4192592592592\n"
     ]
    }
   ],
   "source": [
    "velocidade1_3 = {}\n",
    "for i in range(1, 4):\n",
    "    di = buscar_valor(i, 'Di1') \n",
    "    if di is not None and di != 0:  \n",
    "        resultado = 24.51 * Q / (di ** 2)\n",
    "        velocidade1_3[i] = resultado\n",
    "    else:\n",
    "        velocidade1_3[i] = \"Di1 não disponível ou igual a zero.\"\n",
    "\n",
    "for trecho, velocidade in velocidade1_3.items():\n",
    "    print(f\"Velocidade média para o trecho {trecho}: {velocidade}\")"
   ]
  },
  {
   "cell_type": "markdown",
   "id": "67e1a8c4-2187-46c0-9ccc-560d732dbe5d",
   "metadata": {},
   "source": [
    "Velocidade média na Broca:"
   ]
  },
  {
   "cell_type": "code",
   "execution_count": 41,
   "id": "a689e64f-70a2-49c7-9366-78fe388c0b04",
   "metadata": {},
   "outputs": [
    {
     "name": "stdout",
     "output_type": "stream",
     "text": [
      "Velocidade média para o trecho 4 (usando ID): 4357.333333333333\n"
     ]
    }
   ],
   "source": [
    "id_trecho_4 = buscar_valor(4, 'ID')   \n",
    "if id_trecho_4 is not None and id_trecho_4 != 0:  \n",
    "    velocidade_trecho_4 = 24.51 * Q / (id_trecho_4 ** 2) \n",
    "else:\n",
    "    velocidade_trecho_4 = \"Di1 não disponível ou igual a zero.\"\n",
    "print(f\"Velocidade média para o trecho 4 (usando ID): {velocidade_trecho_4}\")"
   ]
  },
  {
   "cell_type": "markdown",
   "id": "3651f9e5-b92c-46f9-882e-fe22e58b1213",
   "metadata": {},
   "source": [
    "Cálculo das velocidades de 5 a 9"
   ]
  },
  {
   "cell_type": "code",
   "execution_count": 42,
   "id": "cbb6e76b-81a4-4ef7-ba0c-3647833b1023",
   "metadata": {},
   "outputs": [
    {
     "name": "stdout",
     "output_type": "stream",
     "text": [
      "Velocidade média para o trecho 5: 295.4124293785311\n",
      "Velocidade média para o trecho 6: 207.4920634920635\n",
      "Velocidade média para o trecho 7: 207.4920634920635\n",
      "Velocidade média para o trecho 8: 204.90644768735672\n",
      "Velocidade média para o trecho 9: 26.85567539804828\n"
     ]
    }
   ],
   "source": [
    "velocidade5_9 = {}\n",
    "for i in range(5, 10):\n",
    "    do = buscar_valor(i, 'Do') \n",
    "    di = buscar_valor(i, 'Di2') \n",
    "    if do is not None and di is not None and (do**2 - di**2) != 0:  \n",
    "        resultado = 24.51 * Q / (do**2 - di**2)\n",
    "        velocidade5_9[i] = resultado\n",
    "    else:\n",
    "        velocidade5_9[i] = \"Do ou Di não disponível ou cálculo inválido.\"\n",
    "\n",
    "for trecho, velocidade in velocidade5_9.items():\n",
    "    print(f\"Velocidade média para o trecho {trecho}: {velocidade}\")"
   ]
  },
  {
   "cell_type": "markdown",
   "id": "c8309160-a6f3-4e62-835e-0e9254959ec8",
   "metadata": {},
   "source": [
    "Cálculos da velocidades criticas "
   ]
  },
  {
   "cell_type": "code",
   "execution_count": 43,
   "id": "0ea7bb03-6fc1-49cd-85fe-d7645c6813d8",
   "metadata": {},
   "outputs": [
    {
     "name": "stdout",
     "output_type": "stream",
     "text": [
      "Velocidade crítica para o trecho 1: 121.82829359973847\n",
      "Velocidade crítica para o trecho 2: 150.2687793485099\n",
      "Velocidade crítica para o trecho 3: 156.12129275872567\n"
     ]
    }
   ],
   "source": [
    "velocidade_critica1_3 = {}\n",
    "for i in range(1, 4):\n",
    "    di1 = buscar_valor(i, 'Di1')\n",
    "    if di1 is not None and di1 != 0:  \n",
    "        velocidade_critica = (\n",
    "            1.969 * \n",
    "            ((5 * (3470 - 1370 * Np) * Kp) / m_fluido) ** (1 / (2 * Np)) *\n",
    "            ((3 * Np + 1) / (1.27 * di1 * Np)) ** (Np / (2 - Np)))\n",
    "        velocidade_critica1_3[i] = velocidade_critica\n",
    "    else:\n",
    "        velocidade_critica1_3[i] = \"Di1 não disponível ou igual a zero.\"\n",
    "\n",
    "for trecho, velocidades_critica in velocidade_critica1_3.items():\n",
    "    print(f\"Velocidade crítica para o trecho {trecho}: {velocidades_critica}\")"
   ]
  },
  {
   "cell_type": "code",
   "execution_count": 44,
   "id": "ea931001-ffd8-4f10-88b8-8b84d790e059",
   "metadata": {},
   "outputs": [
    {
     "name": "stdout",
     "output_type": "stream",
     "text": [
      "Velocidade crítica para o trecho 5: 455.1721145333502\n",
      "Velocidade crítica para o trecho 6: 367.855991282053\n",
      "Velocidade crítica para o trecho 7: 367.855991282053\n",
      "Velocidade crítica para o trecho 8: 366.09578538830397\n",
      "Velocidade crítica para o trecho 9: 183.87877740120706\n"
     ]
    }
   ],
   "source": [
    "velocidade_critica5_9 = {}\n",
    "for i in range(5, 10):\n",
    "    do = buscar_valor(i, 'Do')\n",
    "    di = buscar_valor(i, 'Di2')\n",
    "    \n",
    "    if do is not None and di is not None and (do - di) != 0:  \n",
    "        velocidade_critica = (\n",
    "            1.969 * \n",
    "            (((4.08 * (3470 - 1370 * Na) * Ka) / m_fluido) ** (1 / (2 - Na))) *\n",
    "            (((2 * Na + 1) / (0.64 * (do - di) * Na)) ** (Na / (2 - Na)))\n",
    "        )\n",
    "        velocidade_critica5_9[i] = velocidade_critica\n",
    "    else:\n",
    "        velocidade_critica5_9[i] = \"Do ou Di não disponível ou cálculo inválido.\"\n",
    "\n",
    "for trecho, velocidades_critica in velocidade_critica5_9.items():\n",
    "    print(f\"Velocidade crítica para o trecho {trecho}: {velocidades_critica}\")"
   ]
  },
  {
   "cell_type": "markdown",
   "id": "cdfdc1f3-3bc8-45c8-b554-f8b9e41e6317",
   "metadata": {},
   "source": [
    "Avaliação se os trechos estão em regime Laminar ou turbulento"
   ]
  },
  {
   "cell_type": "code",
   "execution_count": 46,
   "id": "d3ff110a-1e05-4d91-9c7f-3ba75971d250",
   "metadata": {},
   "outputs": [
    {
     "name": "stdout",
     "output_type": "stream",
     "text": [
      "Trecho 1: Velocidade média = 536.2013579392367, Velocidade crítica = 121.82829359973847, Estado: Turbulento\n",
      "Trecho 2: Velocidade média = 1089.3333333333333, Velocidade crítica = 150.2687793485099, Estado: Turbulento\n",
      "Trecho 3: Velocidade média = 1239.4192592592592, Velocidade crítica = 156.12129275872567, Estado: Turbulento\n",
      "Trecho 4: Velocidade média = Não disponível, Velocidade crítica = Não disponível, Estado: Turbulento para Broca ou Dados insuficientes para comparação\n",
      "Trecho 5: Velocidade média = 295.4124293785311, Velocidade crítica = 455.1721145333502, Estado: Laminar\n",
      "Trecho 6: Velocidade média = 207.4920634920635, Velocidade crítica = 367.855991282053, Estado: Laminar\n",
      "Trecho 7: Velocidade média = 207.4920634920635, Velocidade crítica = 367.855991282053, Estado: Laminar\n",
      "Trecho 8: Velocidade média = 204.90644768735672, Velocidade crítica = 366.09578538830397, Estado: Laminar\n",
      "Trecho 9: Velocidade média = 26.85567539804828, Velocidade crítica = 183.87877740120706, Estado: Laminar\n"
     ]
    }
   ],
   "source": [
    "for i in range(1, 10):\n",
    "    if i in velocidade1_3:\n",
    "        velocidade_media = velocidade1_3[i]\n",
    "    elif i in velocidade5_9:\n",
    "        velocidade_media = velocidade5_9[i]\n",
    "    else:\n",
    "        velocidade_media = \"Não disponível\"\n",
    "    \n",
    "    if i in velocidade_critica1_3:\n",
    "        velocidade_critica = velocidade_critica1_3[i] if i <= 3 else None\n",
    "    elif i in velocidade_critica5_9:\n",
    "        velocidade_critica = velocidade_critica5_9[i] if i >= 5 else None\n",
    "    else:\n",
    "        velocidade_critica = \"Não disponível\"\n",
    "\n",
    "    # Comparar velocidades\n",
    "    if isinstance(velocidade_media, (int, float)) and isinstance(velocidade_critica, (int, float)):\n",
    "        if velocidade_media < velocidade_critica:\n",
    "            estado = \"Laminar\"\n",
    "        else:\n",
    "            estado = \"Turbulento\"\n",
    "    else:\n",
    "        estado = \"Turbulento para Broca ou Dados insuficientes para comparação\"\n",
    "\n",
    "    print(f\"Trecho {i}: Velocidade média = {velocidade_media}, Velocidade crítica = {velocidade_critica}, Estado: {estado}\")"
   ]
  },
  {
   "cell_type": "markdown",
   "id": "3361ad09-a7d4-4968-bebd-70f67ea7ef25",
   "metadata": {},
   "source": [
    "Cálculos dos Delta P em cada trecho:"
   ]
  },
  {
   "cell_type": "code",
   "execution_count": 49,
   "id": "94c3adc3-2e34-4530-8474-b9e2b283059d",
   "metadata": {},
   "outputs": [
    {
     "name": "stdout",
     "output_type": "stream",
     "text": [
      "Delta P para o trecho 1: 1026.7091887364186\n",
      "Delta P para o trecho 2: 140.63126957885768\n",
      "Delta P para o trecho 3: 335.07571352684147\n"
     ]
    }
   ],
   "source": [
    "deltaP_trechos_1_3 = {}\n",
    "for i in range(1, 4):\n",
    "    if i in velocidade1_3:\n",
    "        velocidade_media = velocidade1_3[i]\n",
    "    elif i in velocidade5_9:\n",
    "        velocidade_media = velocidade5_9[i]\n",
    "    else:\n",
    "        velocidade_media = None\n",
    "\n",
    "    if i <= 3:\n",
    "        di1_value = buscar_valor(i, 'Di1')\n",
    "        comprimento = buscar_valor(i, 'Comprimento')\n",
    "        if di1_value is not None and di1_value != 0 and velocidade_media is not None:\n",
    "            deltaP = (\n",
    "                (((np.log10(Np) + 2.5) * m_fluido * (velocidade_media ** 2) * comprimento) /  #8.45 água \n",
    "                (4645029 * di1_value)) *\n",
    "                ((19.36 * Kp * ((0.4 * velocidade_media * (3 * Np + 1) / (di1_value * Np)) /\n",
    "                (8.45 * velocidade_media ** 2)) ** ((1.4 - np.log10(Np)) / 7)))\n",
    "            )\n",
    "            deltaP_trechos_1_3[i] = deltaP\n",
    "        else:\n",
    "            deltaP_trechos_1_3[i] = \"Dados insuficientes para cálculo.\"\n",
    "    else:\n",
    "        deltaP_trechos_1_3[i] = \"Não aplicável para este trecho.\"\n",
    "for trecho, deltaP in deltaP_trechos_1_3.items():\n",
    "    print(f\"Delta P para o trecho {trecho}: {deltaP}\")"
   ]
  },
  {
   "cell_type": "markdown",
   "id": "9563ad0e-e30b-4d9b-9bed-4186eff4ec83",
   "metadata": {},
   "source": [
    "Delta P na broca"
   ]
  },
  {
   "cell_type": "code",
   "execution_count": 50,
   "id": "fcdee090-b4ca-4866-a12d-69d4e34b0174",
   "metadata": {},
   "outputs": [
    {
     "name": "stdout",
     "output_type": "stream",
     "text": [
      "Delta P para o trecho 4: 380.859375\n"
     ]
    }
   ],
   "source": [
    "trecho_4_deltaP = {}\n",
    "i = 4  # Trecho 4\n",
    "ID_value = buscar_valor(i, 'ID')\n",
    "\n",
    "if ID_value is not None and ID_value != 0:\n",
    "    deltaP_trecho_4 = (156 * m_fluido * Q ** 2) / (((24/ID_value) ** 2)*3) ** 2\n",
    "    trecho_4_deltaP[i] = deltaP_trecho_4\n",
    "else:\n",
    "    trecho_4_deltaP[i] = \"ID não disponível ou igual a zero.\"\n",
    "\n",
    "for trecho, deltaP in trecho_4_deltaP.items():\n",
    "    print(f\"Delta P para o trecho {trecho}: {deltaP}\")"
   ]
  },
  {
   "cell_type": "markdown",
   "id": "366a6c24-dd54-4504-a7b9-5f2a4959ba06",
   "metadata": {},
   "source": [
    "Deltas P no Anular   "
   ]
  },
  {
   "cell_type": "code",
   "execution_count": 51,
   "id": "87db6c6b-af06-4527-aac4-e4362127a815",
   "metadata": {},
   "outputs": [
    {
     "name": "stdout",
     "output_type": "stream",
     "text": [
      "Delta P para o trecho 5: 65.0129985134612\n",
      "Delta P para o trecho 6: 12.584180383294918\n",
      "Delta P para o trecho 7: 75.50508229976951\n",
      "Delta P para o trecho 8: 183.3740328548471\n",
      "Delta P para o trecho 9: 2.842788201994122\n"
     ]
    }
   ],
   "source": [
    "deltaP_trechos_5_9 = {}\n",
    "for i in range(5, 10):\n",
    "    do = buscar_valor(i, 'Do')\n",
    "    di2 = buscar_valor(i, 'Di2')\n",
    "    comprimento = buscar_valor(i, 'Comprimento')\n",
    "    velocidade_media = velocidade5_9[i] if i in velocidade5_9 else 0 \n",
    "\n",
    "    if do is not None and di2 is not None and comprimento is not None and (do - di2) != 0:\n",
    "        deltaP = (\n",
    "            (Ka * comprimento / (300 * (do - di2))) *\n",
    "            ((0.8 * velocidade_media * (2 * Na + 1)) / ((do - di2) * Na) ** Na)\n",
    "        )\n",
    "        deltaP_trechos_5_9[i] = deltaP\n",
    "    else:\n",
    "        deltaP_trechos_5_9[i] = \"Do, Di2 ou comprimento não disponível ou cálculo inválido.\"\n",
    "\n",
    "for trecho, deltaP in deltaP_trechos_5_9.items():\n",
    "    print(f\"Delta P para o trecho {trecho}: {deltaP}\")"
   ]
  },
  {
   "cell_type": "code",
   "execution_count": 52,
   "id": "519ca2a3-3765-46f7-b3b2-828395c9325d",
   "metadata": {},
   "outputs": [
    {
     "name": "stdout",
     "output_type": "stream",
     "text": [
      "Soma total de Delta P: 2222.594629095485\n"
     ]
    }
   ],
   "source": [
    "soma_total_deltaP = 0\n",
    "for deltaP in deltaP_trechos_1_3.values():\n",
    "    if isinstance(deltaP, (int, float)):\n",
    "        soma_total_deltaP += deltaP\n",
    "\n",
    "for deltaP in trecho_4_deltaP.values():\n",
    "    if isinstance(deltaP, (int, float)):\n",
    "        soma_total_deltaP += deltaP\n",
    "\n",
    "for deltaP in deltaP_trechos_5_9.values():\n",
    "    if isinstance(deltaP, (int, float)):\n",
    "        soma_total_deltaP += deltaP\n",
    "print(f\"Soma total de Delta P: {soma_total_deltaP}\")"
   ]
  },
  {
   "cell_type": "markdown",
   "id": "53246358-0f10-4ac8-9dc6-325b2534571f",
   "metadata": {},
   "source": [
    "Cálculo da vazão no cascalho"
   ]
  },
  {
   "cell_type": "code",
   "execution_count": 54,
   "id": "18617031-39e9-4169-9a50-09ed552a3a98",
   "metadata": {},
   "outputs": [
    {
     "name": "stdout",
     "output_type": "stream",
     "text": [
      "402.41600318471336\n"
     ]
    }
   ],
   "source": [
    "Q_cascalho = 0.7*taxa_penetração_media*D_broca**2/314\n",
    "Q_anular = Q_cascalho + Q\n",
    "print(Q_anular)"
   ]
  },
  {
   "cell_type": "markdown",
   "id": "029a8d33-0d09-4507-a313-5418084d2e7d",
   "metadata": {},
   "source": [
    "Massa especifica aparente do fluido no anularr"
   ]
  },
  {
   "cell_type": "code",
   "execution_count": 55,
   "id": "a52a3700-9344-4d69-b405-8ce7f74224bb",
   "metadata": {},
   "outputs": [
    {
     "name": "stdout",
     "output_type": "stream",
     "text": [
      "O peso específico no anular: 8.962176404657775\n"
     ]
    }
   ],
   "source": [
    "m_anular = (Q*m_fluido+Q_cascalho*m_cascalho)/Q_anular\n",
    "print(f\"O peso específico no anular: {m_anular}\")"
   ]
  },
  {
   "cell_type": "markdown",
   "id": "f83c1d63-7ac8-4235-b988-33811b280921",
   "metadata": {},
   "source": [
    "Delta P hidrostático"
   ]
  },
  {
   "cell_type": "code",
   "execution_count": 56,
   "id": "8c0bb86a-c548-4c5f-ae84-0fc4708f157c",
   "metadata": {},
   "outputs": [
    {
     "name": "stdout",
     "output_type": "stream",
     "text": [
      "O Delta P hidrostático: -21.862038107805933\n"
     ]
    }
   ],
   "source": [
    "delta_P_hidrostatico = 0.17*(m_anular-m_fluido)*L\n",
    "print(f\"O Delta P hidrostático: {delta_P_hidrostatico}\")"
   ]
  },
  {
   "cell_type": "markdown",
   "id": "ab1858d4-1003-49f6-bdcf-1206ba21f299",
   "metadata": {},
   "source": [
    "A soma das perdas de carga ao longo da coluna equivale a pressão no tubo de bengala\")"
   ]
  },
  {
   "cell_type": "code",
   "execution_count": 57,
   "id": "b5a2caa5-c466-4ba1-8fbd-bbec2a7d7794",
   "metadata": {},
   "outputs": [
    {
     "name": "stdout",
     "output_type": "stream",
     "text": [
      "A pressão no tubo de bengala vale: 2200.732590987679\n"
     ]
    }
   ],
   "source": [
    "P_bengala = soma_total_deltaP + delta_P_hidrostatico\n",
    "print(f\"A pressão no tubo de bengala vale: {P_bengala}\")"
   ]
  },
  {
   "cell_type": "markdown",
   "id": "7622c330-9b01-42a5-9e10-969236ea6414",
   "metadata": {},
   "source": [
    "Pressão dinâmica no fundo do poço"
   ]
  },
  {
   "cell_type": "markdown",
   "id": "77dfa604-7daa-4e24-b694-51f9a7a85b2d",
   "metadata": {},
   "source": [
    "b) A ECD no fundo do poço e na sapata;"
   ]
  },
  {
   "cell_type": "code",
   "execution_count": 58,
   "id": "05d4f30b-fa31-4317-af71-94dff424bd03",
   "metadata": {},
   "outputs": [
    {
     "name": "stdout",
     "output_type": "stream",
     "text": [
      "A pressão dinâmica no fundo do poço: 5519.457044145562\n"
     ]
    }
   ],
   "source": [
    "soma_total_deltaP_anular = 0\n",
    "for deltaP in deltaP_trechos_5_9.values():\n",
    "    if isinstance(deltaP, (int, float)):\n",
    "        soma_total_deltaP_anular += deltaP\n",
    "        \n",
    "P_dinamica_no_fundo = 0.17*m_anular*L + soma_total_deltaP_anular\n",
    "print(f\"A pressão dinâmica no fundo do poço: {P_dinamica_no_fundo}\")"
   ]
  },
  {
   "cell_type": "markdown",
   "id": "8c8bb9a0-9a3b-4291-9556-a1ced855c551",
   "metadata": {},
   "source": [
    "ECD no fundo do poço"
   ]
  },
  {
   "cell_type": "code",
   "execution_count": 59,
   "id": "9e8c6a5d-f64f-4b89-80fc-8ebb0618d104",
   "metadata": {},
   "outputs": [
    {
     "name": "stdout",
     "output_type": "stream",
     "text": [
      "ECD no fundo do poço: 9.549233640390245\n"
     ]
    }
   ],
   "source": [
    "Ecd_fundo = P_dinamica_no_fundo/(0.17*L)\n",
    "print(f\"ECD no fundo do poço: {Ecd_fundo}\")"
   ]
  },
  {
   "cell_type": "markdown",
   "id": "53cacee5-4ad6-4bdf-986d-d5ceb5df61ba",
   "metadata": {},
   "source": [
    "Pressão dinâmica na sapata"
   ]
  },
  {
   "cell_type": "code",
   "execution_count": 61,
   "id": "586a4f71-9aee-4aa2-ad8a-1c8aa8630b87",
   "metadata": {},
   "outputs": [
    {
     "name": "stdout",
     "output_type": "stream",
     "text": [
      "A pressão dinâmica na sapata: 4299.855790794761\n"
     ]
    }
   ],
   "source": [
    "soma_total_deltaP_sapata = 0\n",
    "for trecho, deltaP in deltaP_trechos_5_9.items():\n",
    "    if trecho in [8, 9] and isinstance(deltaP, (int, float)):\n",
    "        soma_total_deltaP_sapata += deltaP\n",
    "P_dinamica_na_sapata = 0.17*m_anular*L_sapata + soma_total_deltaP_sapata\n",
    "print(f\"A pressão dinâmica na sapata: {P_dinamica_na_sapata}\")"
   ]
  },
  {
   "cell_type": "markdown",
   "id": "dde60fbf-addf-4779-af62-19d495850b5f",
   "metadata": {},
   "source": [
    "ECD na sapata"
   ]
  },
  {
   "cell_type": "code",
   "execution_count": 62,
   "id": "da304d16-798f-4a87-85c5-4d3fe66c2ec1",
   "metadata": {},
   "outputs": [
    {
     "name": "stdout",
     "output_type": "stream",
     "text": [
      "ECD no fundo na sapata: 9.367877539857865\n"
     ]
    }
   ],
   "source": [
    "Ecd_sapata = P_dinamica_na_sapata/(0.17*L_sapata)\n",
    "print(f\"ECD no fundo na sapata: {Ecd_sapata}\")"
   ]
  },
  {
   "cell_type": "markdown",
   "id": "f7a59bda-0ad4-4202-8d1b-35b0ebdb0881",
   "metadata": {},
   "source": [
    "d) Admitindo a ocorrência de reservatório com pressão de poros de 6200psi na profundidade de 3400m, calcule o peso específico mínimo do fluido de perfuração a ser utilizado para evitar a ocorrência de kick."
   ]
  },
  {
   "cell_type": "markdown",
   "id": "52b87c29-b77c-4301-baba-98546e2dc0d0",
   "metadata": {},
   "source": [
    "Peso específico mínimo do fluido de perfuração a ser utilizado para evitar a ocorrência de kick"
   ]
  },
  {
   "cell_type": "code",
   "execution_count": 63,
   "id": "0f3ce50b-2820-4dac-9b75-9b97815434fa",
   "metadata": {},
   "outputs": [
    {
     "name": "stdout",
     "output_type": "stream",
     "text": [
      "Peso específico mínimo do fluido de perfuração: 5.98 psi\n"
     ]
    }
   ],
   "source": [
    "peso_especifico_minimo = pressao_porosa / L*3.28084   #3.28084 m to pés\n",
    "print(f\"Peso específico mínimo do fluido de perfuração: {peso_especifico_minimo:.2f} psi\")"
   ]
  },
  {
   "cell_type": "markdown",
   "id": "d3a68d14-70f8-40c5-9799-f5cd33e1bbad",
   "metadata": {},
   "source": [
    "e) Caso a vazão de injeção do fluido seja alterada para 200 gal/min e posteriormente para 800 gal/min, com\r\n",
    "base nos cálculos da ECD, discuta a influência da vazão de bombeio de fluido na estabilidade do poço\r\n",
    "durante o processo de perfuração;"
   ]
  },
  {
   "cell_type": "code",
   "execution_count": 64,
   "id": "ba094b71-a0de-4c34-aa20-90f56d0a37ea",
   "metadata": {},
   "outputs": [
    {
     "data": {
      "image/png": "[encoded data removed]",
      "text/plain": [
       "<Figure size 1000x600 with 1 Axes>"
      ]
     },
     "metadata": {},
     "output_type": "display_data"
    }
   ],
   "source": [
    "vazoes = [200, 250, 300, 350, 400, 450, 500, 550, 600, 650, 700, 750, 800]  # gal/min\n",
    "ecd_fundo_vazao = {}\n",
    "ecd_sapata_vazao = {}\n",
    "\n",
    "# Loop para calcular ECD para cada nova vazão\n",
    "for Q_nova in vazoes:\n",
    "    # Recalcular a massa específica aparente do fluido no anular\n",
    "    m_anular = (Q_nova * m_fluido + Q_cascalho * m_cascalho) / (Q_nova + Q_cascalho)\n",
    "\n",
    "    # Cálculo do delta_P hidrostático\n",
    "    delta_P_hidrostatico = 0.17 * (m_anular - m_fluido) * L\n",
    "\n",
    "    # Cálculo da pressão dinâmica no fundo do poço\n",
    "    soma_total_deltaP_anular = sum(deltaP for deltaP in deltaP_trechos_5_9.values() if isinstance(deltaP, (int, float)))\n",
    "    P_dinamica_no_fundo = 0.17 * m_anular * L + soma_total_deltaP_anular\n",
    "\n",
    "    # Cálculo da ECD no fundo do poço\n",
    "    Ecd_fundo = P_dinamica_no_fundo / (0.17 * L)\n",
    "    ecd_fundo_vazao[Q_nova] = Ecd_fundo\n",
    "\n",
    "    # Cálculo da pressão dinâmica na sapata\n",
    "    soma_total_deltaP_sapata = sum(deltaP for trecho, deltaP in deltaP_trechos_5_9.items() if trecho in [8, 9] and isinstance(deltaP, (int, float)))\n",
    "    P_dinamica_na_sapata = 0.17 * m_anular * L_sapata + soma_total_deltaP_sapata\n",
    "\n",
    "    # Cálculo da ECD na sapata\n",
    "    Ecd_sapata = P_dinamica_na_sapata / (0.17 * L_sapata)\n",
    "    ecd_sapata_vazao[Q_nova] = Ecd_sapata\n",
    "\n",
    "plt.figure(figsize=(10, 6))\n",
    "plt.plot(ecd_fundo_vazao.keys(), ecd_fundo_vazao.values(), label='ECD no Fundo do Poço', marker='o', color='blue')\n",
    "plt.plot(ecd_sapata_vazao.keys(), ecd_sapata_vazao.values(), label='ECD na Sapata', marker='o', color='orange')\n",
    "plt.title('ECD em função da Vazão de Bombeio de Fluido')\n",
    "plt.xlabel('Vazão de Bombeio (gal/min)')\n",
    "plt.ylabel('ECD (psi)')\n",
    "plt.legend()\n",
    "plt.grid()\n",
    "plt.show()"
   ]
  },
  {
   "cell_type": "markdown",
   "id": "81d91a0f-55be-40cf-af4b-b3774cbcbe9e",
   "metadata": {},
   "source": [
    "f) Plote uma curva correlacionado o peso específico do fluido e a ECD para uma variação de peso\r\n",
    "específico de 8,0 lb/gal até 14 lb/gal. Discorra sobre a influência do peso específico do fluido na ECD."
   ]
  },
  {
   "cell_type": "code",
   "execution_count": 65,
   "id": "5ba41d29-879b-4325-946b-23cb147c9819",
   "metadata": {},
   "outputs": [
    {
     "data": {
      "image/png": "[encoded data removed]",
      "text/plain": [
       "<Figure size 1000x600 with 1 Axes>"
      ]
     },
     "metadata": {},
     "output_type": "display_data"
    }
   ],
   "source": [
    "m_fluido_values = np.linspace(8, 14, 100)  # de 8 a 14 lb/gal\n",
    "ecd_fundo_values = []\n",
    "ecd_sapata_values = []\n",
    "\n",
    "# Loop para calcular ECD para cada m_fluido\n",
    "for m_fluido in m_fluido_values:\n",
    "    # Recalcular a massa específica aparente do fluido no anular\n",
    "    m_anular = (Q * m_fluido + Q_cascalho * m_cascalho) / (Q + Q_cascalho)\n",
    "\n",
    "    # Cálculo do delta_P hidrostático\n",
    "    delta_P_hidrostatico = 0.17 * (m_anular - m_fluido) * L\n",
    "\n",
    "    # Cálculo da pressão dinâmica no fundo do poço\n",
    "    soma_total_deltaP_anular = sum(deltaP for deltaP in deltaP_trechos_5_9.values() if isinstance(deltaP, (int, float)))\n",
    "    P_dinamica_no_fundo = 0.17 * m_anular * L + soma_total_deltaP_anular\n",
    "\n",
    "    # Cálculo da ECD no fundo do poço\n",
    "    Ecd_fundo = P_dinamica_no_fundo / (0.17 * L)\n",
    "    ecd_fundo_values.append(Ecd_fundo)\n",
    "\n",
    "    # Cálculo da pressão dinâmica na sapata\n",
    "    soma_total_deltaP_sapata = sum(deltaP for trecho, deltaP in deltaP_trechos_5_9.items() if trecho in [8, 9] and isinstance(deltaP, (int, float)))\n",
    "    P_dinamica_na_sapata = 0.17 * m_anular * L_sapata + soma_total_deltaP_sapata\n",
    "\n",
    "    # Cálculo da ECD na sapata\n",
    "    Ecd_sapata = P_dinamica_na_sapata / (0.17 * L_sapata)\n",
    "    ecd_sapata_values.append(Ecd_sapata)\n",
    " \n",
    "plt.figure(figsize=(10, 6))\n",
    "plt.plot(m_fluido_values, ecd_fundo_values, label='ECD no Fundo do Poço', color='blue', marker='o', markersize=4)\n",
    "plt.plot(m_fluido_values, ecd_sapata_values, label='ECD na Sapata', color='orange', marker='o', markersize=4)\n",
    "plt.title('ECD em função do Peso Específico do Fluido')\n",
    "plt.xlabel('Peso Específico do Fluido (lb/gal)')\n",
    "plt.ylabel('ECD (psi)')\n",
    "plt.legend()\n",
    "plt.grid()\n",
    "plt.show()"
   ]
  },
  {
   "cell_type": "markdown",
   "id": "b646b112-404c-4f62-841a-aeb34e4a9336",
   "metadata": {},
   "source": [
    "g) Discorra sobre a influência da taxa de penetração na estabilidade do poço. Para fundamentar a análise\r\n",
    "obtenha resultados da ECD com taxa de 10m/h e 40m/h."
   ]
  },
  {
   "cell_type": "code",
   "execution_count": 66,
   "id": "906dc883-2993-45c3-ab79-b942b6c50f36",
   "metadata": {},
   "outputs": [
    {
     "data": {
      "image/png": "[encoded data removed]",
      "text/plain": [
       "<Figure size 1000x600 with 1 Axes>"
      ]
     },
     "metadata": {},
     "output_type": "display_data"
    }
   ],
   "source": [
    "taxas_penetração = [10, 40]  # em m/h\n",
    "ecd_fundo_values = []\n",
    "ecd_sapata_values = []\n",
    "\n",
    "for taxa_penetração_media in taxas_penetração:\n",
    "    Q_cascalho = 0.7 * taxa_penetração_media * D_broca**2 / 314\n",
    "    Q_anular = Q_cascalho + Q\n",
    "    \n",
    "    # Massa específica aparente do fluido no anular\n",
    "    m_anular = (Q * m_fluido + Q_cascalho * m_cascalho) / Q_anular\n",
    "    \n",
    "    # Delta P hidrostático\n",
    "    delta_P_hidrostatico = 0.17 * (m_anular - m_fluido) * L\n",
    "    \n",
    "    # Pressão dinâmica no fundo do poço\n",
    "    P_dinamica_no_fundo = 0.17 * m_anular * L  # simplificado para o exemplo\n",
    "    Ecd_fundo = (P_dinamica_no_fundo + delta_P_hidrostatico) / (0.17 * L)\n",
    "    ecd_fundo_values.append(Ecd_fundo)\n",
    "\n",
    "    # Pressão dinâmica na sapata\n",
    "    P_dinamica_na_sapata = 0.17 * m_anular * L_sapata  # simplificado para o exemplo\n",
    "    Ecd_sapata = (P_dinamica_na_sapata + delta_P_hidrostatico) / (0.17 * L_sapata)\n",
    "    ecd_sapata_values.append(Ecd_sapata)\n",
    "\n",
    "plt.figure(figsize=(10, 6))\n",
    "plt.plot(taxas_penetração, ecd_fundo_values, label='ECD no Fundo do Poço', color='blue', marker='o')\n",
    "plt.plot(taxas_penetração, ecd_sapata_values, label='ECD na Sapata', color='orange', marker='o')\n",
    "plt.title('ECD em função da Taxa de Penetração Média')\n",
    "plt.xlabel('Taxa de Penetração Média (m/h)')\n",
    "plt.ylabel('ECD (psi)')\n",
    "plt.xticks(taxas_penetração)\n",
    "plt.legend()\n",
    "plt.grid()\n",
    "plt.show()"
   ]
  },
  {
   "cell_type": "code",
   "execution_count": null,
   "id": "b7eee8ee-8e9c-4b50-8e2c-5614a97a9be9",
   "metadata": {},
   "outputs": [],
   "source": []
  }
 ],
 "metadata": {
  "kernelspec": {
   "display_name": "Python 3 (ipykernel)",
   "language": "python",
   "name": "python3"
  },
  "language_info": {
   "codemirror_mode": {
    "name": "ipython",
    "version": 3
   },
   "file_extension": ".py",
   "mimetype": "text/x-python",
   "name": "python",
   "nbconvert_exporter": "python",
   "pygments_lexer": "ipython3",
   "version": "3.11.7"
  }
 },
 "nbformat": 4,
 "nbformat_minor": 5
}
